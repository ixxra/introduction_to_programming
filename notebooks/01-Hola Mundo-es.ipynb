{
 "metadata": {
  "name": "",
  "signature": "sha256:9887ccb918ace6c6fe7ad169feecd1e7efa165bcd2790c2f6bfb478063f27c8b"
 },
 "nbformat": 3,
 "nbformat_minor": 0,
 "worksheets": [
  {
   "cells": [
    {
     "cell_type": "heading",
     "level": 1,
     "metadata": {},
     "source": [
      "Hola Mundo"
     ]
    },
    {
     "cell_type": "code",
     "collapsed": false,
     "input": [
      "print 'hola mundo'"
     ],
     "language": "python",
     "metadata": {},
     "outputs": [
      {
       "output_type": "stream",
       "stream": "stdout",
       "text": [
        "hola mundo\n"
       ]
      }
     ],
     "prompt_number": 1
    },
    {
     "cell_type": "markdown",
     "metadata": {},
     "source": [
      "Este es el [notebook](http://ipython.org/notebook.html) de `ipython`, una manera muy versatil de utilizar python, y mezclarlo con texto cient\u00edfico.\n",
      "\n",
      "Para tener una idea de lo que se puede hacer con el notebook, puedes mirar algunos [ejemplos](http://nbviewer.ipython.org/)"
     ]
    },
    {
     "cell_type": "heading",
     "level": 2,
     "metadata": {},
     "source": [
      "Organizacion"
     ]
    },
    {
     "cell_type": "markdown",
     "metadata": {},
     "source": [
      "El notebook esta dividido en celdas. Cada celda puede contener un tipo diferente de contenido: *Encabezados*, *c\u00f3digo escrito en python*, o *texto escrito en markdown*.\n",
      "\n",
      "La manera de escoger que escribir en el notebook es utilizando la pesta\u00f1a que se encuentra junto a los botones, y que por defecto dice *code*.\n",
      "\n",
      "Si seleccionas la opci\u00f3n [markdown](https://github.com/adam-p/markdown-here/wiki/Markdown-Cheatsheet) puedes escribir utilizando un minilenguage que se convierte en html al ejecutar la celda."
     ]
    },
    {
     "cell_type": "heading",
     "level": 2,
     "metadata": {},
     "source": [
      "Latex"
     ]
    },
    {
     "cell_type": "markdown",
     "metadata": {},
     "source": [
      "La versi\u00f3n de *markdown* que usa el notebook permite utilizar [latex](http://latex-project.org/intro.html), as\u00ed que es posible insertar f\u00f3rmulas de matem\u00e1ticas en las celdas con markdown escribiendo c\u00f3digo similiar a este:\n",
      "\n",
      "```tex\n",
      "$\\int_0^{\\infty} e^{-x^2} dx = \\frac{\\sqrt{\\pi}}{2}$\n",
      "```\n",
      "\n",
      "El resultado de escribir esta f\u00f3rmula, es una ecuaci\u00f3n similiar a la siguiente:\n",
      "\n",
      "$\\int_0^{\\infty} e^{-x^2} dx = \\frac{\\sqrt{\\pi}}{2}$\n",
      "\n",
      "En caso que quieras aprender a utilizar $\\LaTeX$, puedes comenzar por alguno de los muchos tutoriales disponibles en internet. No es necesario instalarlo para poder utilizarlo, siempre y cuando tengas acceso a internet, ya que existen varios editores en l\u00ednea, por ejemplo [sharelatex](https://www.sharelatex.com/)."
     ]
    },
    {
     "cell_type": "code",
     "collapsed": false,
     "input": [],
     "language": "python",
     "metadata": {},
     "outputs": []
    }
   ],
   "metadata": {}
  }
 ]
}